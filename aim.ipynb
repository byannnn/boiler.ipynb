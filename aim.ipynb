{
 "cells": [
  {
   "cell_type": "code",
   "execution_count": null,
   "metadata": {},
   "outputs": [],
   "source": [
    "from aim import Run\n",
    "\n",
    "aim_run = Run(range)  # replace example IP with your tracking server IP/hostname\n",
    "\n",
    "aim_run = Run(\n",
    "    # repo=\"aim://aim.server.com\",\n",
    "    repo=\"/repo/path/to/store/runs\",\n",
    "    experiment=\"experiment_name\",\n",
    "    # system_tracking_interval=None,\n",
    "    # capture_terminal_logs=False,\n",
    ")\n",
    "\n",
    "num_epochs = 5000\n",
    "num_classes = 3\n",
    "batch_size = 150\n",
    "learning_rate = 0.001\n",
    "\n",
    "aim_run[\"hparams\"] = {\n",
    "    \"num_epochs\": num_epochs,\n",
    "    \"num_classes\": num_classes,\n",
    "    \"batch_size\": batch_size,\n",
    "    \"learning_rate\": learning_rate,\n",
    "}"
   ]
  },
  {
   "cell_type": "code",
   "execution_count": null,
   "metadata": {},
   "outputs": [],
   "source": [
    "loss = 1e-3\n",
    "epoch = 13\n",
    "\n",
    "aim_run.track(\n",
    "    loss, \n",
    "    name='loss', \n",
    "    epoch=epoch,\n",
    "    context={'subset':'train'}\n",
    ")"
   ]
  }
 ],
 "metadata": {
  "language_info": {
   "name": "python"
  }
 },
 "nbformat": 4,
 "nbformat_minor": 2
}
